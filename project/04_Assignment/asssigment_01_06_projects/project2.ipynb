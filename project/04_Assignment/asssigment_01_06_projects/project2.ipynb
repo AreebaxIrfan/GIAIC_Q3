{
  "nbformat": 4,
  "nbformat_minor": 0,
  "metadata": {
    "colab": {
      "provenance": []
    },
    "kernelspec": {
      "name": "python3",
      "display_name": "Python 3"
    },
    "language_info": {
      "name": "python"
    }
  },
  "cells": [
    {
      "cell_type": "code",
      "execution_count": null,
      "metadata": {
        "colab": {
          "base_uri": "https://localhost:8080/"
        },
        "id": "e6YfUz3_9bJW",
        "outputId": "a2866373-59ea-4731-e36a-669e13e90391"
      },
      "outputs": [
        {
          "output_type": "stream",
          "name": "stdout",
          "text": [
            "Enter your number (between 0 and 5): ---5\n",
            "Your guess number is too high.\n",
            "Enter your number (between 0 and 5): ---4\n",
            "Your guess is correct!\n"
          ]
        }
      ],
      "source": [
        "import random\n",
        "\n",
        "cnumber = random.randrange(6)\n",
        "userinput = None  # Initializing userinput to enter the loop\n",
        "\n",
        "while userinput != cnumber:\n",
        "    userinput = int(input(\"Enter your number (between 0 and 5): ---\"))\n",
        "\n",
        "    if userinput > cnumber:\n",
        "        print(\"Your guess number is too high.\")\n",
        "    elif userinput < cnumber:\n",
        "        print(\"Your guess number is too low.\")\n",
        "    else:\n",
        "        print(\"Your guess is correct!\")\n",
        "\n"
      ]
    }
  ]
}