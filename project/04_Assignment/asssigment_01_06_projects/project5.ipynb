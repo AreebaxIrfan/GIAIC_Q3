{
  "nbformat": 4,
  "nbformat_minor": 0,
  "metadata": {
    "colab": {
      "provenance": []
    },
    "kernelspec": {
      "name": "python3",
      "display_name": "Python 3"
    },
    "language_info": {
      "name": "python"
    }
  },
  "cells": [
    {
      "cell_type": "code",
      "execution_count": null,
      "metadata": {
        "colab": {
          "base_uri": "https://localhost:8080/"
        },
        "id": "ArO8Y5u7s_I6",
        "outputId": "d4df63cb-5446-4515-fe9e-c20893b72dec"
      },
      "outputs": [
        {
          "output_type": "stream",
          "name": "stdout",
          "text": [
            "Welcome to the Word Guessing Game!\n",
            "Word: _______\n",
            "Attempts left: 6\n",
            "Guess a letter: p\n",
            "Wrong guess!\n",
            "Word: _______\n",
            "Attempts left: 5\n",
            "Guess a letter: y\n",
            "Wrong guess!\n",
            "Word: _______\n",
            "Attempts left: 4\n",
            "Guess a letter: t\n",
            "Wrong guess!\n",
            "Word: _______\n",
            "Attempts left: 3\n",
            "Guess a letter: h\n",
            "Good guess!\n",
            "Word: ___h___\n",
            "Attempts left: 3\n",
            "Guess a letter: o\n",
            "Wrong guess!\n",
            "Word: ___h___\n",
            "Attempts left: 2\n",
            "Guess a letter: n\n",
            "Good guess!\n",
            "Word: ___h_n_\n",
            "Attempts left: 2\n",
            "Guess a letter: a\n",
            "Good guess!\n",
            "Word: _a_h_n_\n",
            "Attempts left: 2\n",
            "Guess a letter: e\n",
            "Good guess!\n",
            "Word: _a_h_ne\n",
            "Attempts left: 2\n",
            "Guess a letter: m\n",
            "Good guess!\n",
            "Word: ma_h_ne\n",
            "Attempts left: 2\n",
            "Guess a letter: c\n",
            "Good guess!\n",
            "Word: mach_ne\n",
            "Attempts left: 2\n",
            "Guess a letter: c\n",
            "You already guessed that letter!\n",
            "Word: mach_ne\n",
            "Attempts left: 2\n",
            "Guess a letter: i\n",
            "Good guess!\n",
            "Congratulations! You guessed the word: machine\n"
          ]
        }
      ],
      "source": [
        "import random\n",
        "\n",
        "def word_guess_game():\n",
        "    words = ['python', 'developer', 'programming', 'artificial', 'intelligence', 'machine', 'learning']\n",
        "    secret_word = random.choice(words)\n",
        "    guessed_letters = []\n",
        "    attempts = 6\n",
        "\n",
        "    print(\"Welcome to the Word Guessing Game!\")\n",
        "\n",
        "    while attempts > 0:\n",
        "        display_word = ''.join([letter if letter in guessed_letters else '_' for letter in secret_word])\n",
        "        print(f\"Word: {display_word}\")\n",
        "        print(f\"Attempts left: {attempts}\")\n",
        "\n",
        "        guess = input(\"Guess a letter: \").lower()\n",
        "\n",
        "        if len(guess) != 1 or not guess.isalpha():\n",
        "            print(\"Invalid input! Please enter a single letter.\")\n",
        "            continue\n",
        "\n",
        "        if guess in guessed_letters:\n",
        "            print(\"You already guessed that letter!\")\n",
        "            continue\n",
        "\n",
        "        guessed_letters.append(guess)\n",
        "\n",
        "        if guess not in secret_word:\n",
        "            attempts -= 1\n",
        "            print(\"Wrong guess!\")\n",
        "        else:\n",
        "            print(\"Good guess!\")\n",
        "\n",
        "        if all(letter in guessed_letters for letter in secret_word):\n",
        "            print(f\"Congratulations! You guessed the word: {secret_word}\")\n",
        "            break\n",
        "    else:\n",
        "        print(f\"Game Over! The word was: {secret_word}\")\n",
        "\n",
        "if __name__ == \"__main__\":\n",
        "    word_guess_game()\n"
      ]
    }
  ]
}