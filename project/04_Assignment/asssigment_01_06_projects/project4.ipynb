{
  "nbformat": 4,
  "nbformat_minor": 0,
  "metadata": {
    "colab": {
      "provenance": []
    },
    "kernelspec": {
      "name": "python3",
      "display_name": "Python 3"
    },
    "language_info": {
      "name": "python"
    }
  },
  "cells": [
    {
      "cell_type": "code",
      "execution_count": null,
      "metadata": {
        "colab": {
          "base_uri": "https://localhost:8080/"
        },
        "id": "q6CQk9nex8FN",
        "outputId": "589bd495-c007-4998-dfdf-145d4c1f9ef3"
      },
      "outputs": [
        {
          "output_type": "stream",
          "name": "stdout",
          "text": [
            "What's your choice ? \n",
            "'r' for rock ,\n",
            "'p' for paper ,\n",
            "'s' for scissorr\n",
            "You won !\n"
          ]
        }
      ],
      "source": [
        "import random\n",
        "\n",
        "def play():\n",
        "    user = input("What's your choice? \n'r' for rock, \n'p' for paper, \n's' for scissors, \n'q' to quit: ").lower()  # Convert input to lowercase\n",
        "    if user == 'q':\n",
        "        return None  # Signal to quit the game\n",
        "    if user not in ['r', 'p', 's']:  # Validate input\n",
        "        print(\"Invalid choice! Please enter 'r', 'p', or 's'.\")\n",
        "        return play()\n",
        "\n",
        "    computer = random.choice(['r', 'p', 's'])\n",
        "    print(f\"Computer chose: {computer}\")\n",
        "\n",
        "    if user == computer:\n",
        "        return \"It's a tie\"\n",
        "\n",
        "    if is_win(user, computer):\n",
        "        return \"You won!\"\n",
        "\n",
        "    return \"You lost!\"\n",
        "\n",
        "def is_win(player, opponent):\n",
        "    return (player == 'r' and opponent == 's') or \\\n",
        "           (player == 's' and opponent == 'p') or \\\n",
        "           (player == 'p' and opponent == 'r')\n",
        "\n",
        "while True:\n",
        "    result = play()\n",
        "    if result is None:\n",
        "        print(\"Game ended.\")\n",
        "        break\n",
        "    print(result)  # Print result for better visibility\n"
      ]
    }
  ]
}
