{
  "nbformat": 4,
  "nbformat_minor": 0,
  "metadata": {
    "colab": {
      "provenance": []
    },
    "kernelspec": {
      "name": "python3",
      "display_name": "Python 3"
    },
    "language_info": {
      "name": "python"
    }
  },
  "cells": [
    {
      "cell_type": "code",
      "execution_count": null,
      "metadata": {
        "colab": {
          "base_uri": "https://localhost:8080/"
        },
        "id": "G-fVz22AmrZh",
        "outputId": "37bf3353-e1a9-4ec7-bb41-203e228fd1c5"
      },
      "outputs": [
        {
          "output_type": "stream",
          "name": "stdout",
          "text": [
            "Is 7 too high (H) , too low (L) or correct (c)??l\n",
            "Is 9 too high (H) , too low (L) or correct (c)??h\n",
            "Is 8 too high (H) , too low (L) or correct (c)??c\n",
            "Yah! The computer guessed your number , 8 , correctly\n"
          ]
        }
      ],
      "source": [
        "# project no:3\n",
        " #GUESS THE NUMBER GAME (USER)\n",
        "\n",
        "import random\n",
        "\n",
        "def computer_guess(x):\n",
        "   low = 1\n",
        "   high = x\n",
        "   feedback = ''\n",
        "   while feedback != 'c' :\n",
        "     if low != high:\n",
        "        guess = random.randint(low, high)\n",
        "     else:\n",
        "        guess = low\n",
        "     feedback = input(f'Is {guess} too high (H) , too low (L) or correct (c)??').lower()\n",
        "     if feedback == 'h':\n",
        "        high = guess - 1\n",
        "     elif feedback == 'l':\n",
        "       low = guess + 1\n",
        "\n",
        "   print(f'Yah! The computer guessed your number , {guess} , correctly')\n",
        "\n",
        "computer_guess(10)"
      ]
    }
  ]
}