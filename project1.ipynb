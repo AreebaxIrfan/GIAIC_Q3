{
  "cells": [
    {
      "cell_type": "markdown",
      "metadata": {
        "id": "view-in-github",
        "colab_type": "text"
      },
      "source": [
        "<a href=\"https://colab.research.google.com/github/AreebaxIrfan/GIAIC_Q3/blob/main/project1.ipynb\" target=\"_parent\"><img src=\"https://colab.research.google.com/assets/colab-badge.svg\" alt=\"Open In Colab\"/></a>"
      ]
    },
    {
      "cell_type": "code",
      "source": [
        "# Welcome message\n",
        "print(\"Welcome to the Mad Libs game!\")\n",
        "\n",
        "# Collected the user inputs\n",
        "noun1 = input(\"Enter a profession name (developer , programmer , engineer): \")\n",
        "time = input(\"Enter a time (day or night): \")\n",
        "adjective1 = input(\"Enter an adjective (good or brillient): \")\n",
        "\n",
        "# Single story\n",
        "story = f\"\"\"\n",
        "Once upon a time,\n",
        "there was a {adjective1} {noun1} who loved to debug code at {time}.\n",
        "\"\"\"\n",
        "\n",
        "# Print the completed story\n",
        "print(\"\\nHere is your Mad Libs story:\")\n",
        "print(story)\n"
      ],
      "metadata": {
        "id": "XzG_MLQsdOls",
        "outputId": "6482797d-30dd-481c-ff79-16b3183fba7c",
        "colab": {
          "base_uri": "https://localhost:8080/"
        }
      },
      "execution_count": 1,
      "outputs": [
        {
          "output_type": "stream",
          "name": "stdout",
          "text": [
            "Welcome to the Mad Libs game!\n",
            "Enter a profession name (developer , programmer , engineer): developer\n",
            "Enter a time (day or night): day\n",
            "Enter an adjective (good or brillient): good\n",
            "\n",
            "Here is your Mad Libs story:\n",
            "\n",
            "Once upon a time,\n",
            "there was a good developer who loved to debug code late at day.\n",
            "\n"
          ]
        }
      ]
    }
  ],
  "metadata": {
    "colab": {
      "name": "Welcome To Colab",
      "toc_visible": true,
      "provenance": [],
      "include_colab_link": true
    },
    "kernelspec": {
      "display_name": "Python 3",
      "name": "python3"
    }
  },
  "nbformat": 4,
  "nbformat_minor": 0
}