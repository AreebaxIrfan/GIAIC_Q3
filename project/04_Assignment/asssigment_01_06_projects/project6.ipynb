{
  "nbformat": 4,
  "nbformat_minor": 0,
  "metadata": {
    "colab": {
      "provenance": []
    },
    "kernelspec": {
      "name": "python3",
      "display_name": "Python 3"
    },
    "language_info": {
      "name": "python"
    }
  },
  "cells": [
    {
      "cell_type": "code",
      "execution_count": 1,
      "metadata": {
        "colab": {
          "base_uri": "https://localhost:8080/"
        },
        "id": "h4mWArzs4-Uf",
        "outputId": "ce74615d-c91e-4511-b377-e66cfe369190"
      },
      "outputs": [
        {
          "output_type": "stream",
          "name": "stdout",
          "text": [
            "how many seconds to count down? Enter an integer\n",
            "10\n",
            "10\n",
            "9\n",
            "8\n",
            "7\n",
            "6\n",
            "5\n",
            "4\n",
            "3\n",
            "2\n",
            "1\n",
            "time is up\n"
          ]
        }
      ],
      "source": [
        "\n",
        "# project no :6\n",
        "#countdowm timer\n",
        "import time\n",
        "def countdown(t):\n",
        "    while t > 0:\n",
        "        print(t)\n",
        "        t -= 1\n",
        "\n",
        "        time.sleep(1)\n",
        "    print('time is up')\n",
        "\n",
        "print(\"how many seconds to count down? Enter an integer\")\n",
        "second = input()\n",
        "while not second.isdigit():\n",
        "    print(\"please enter an integer\")\n",
        "    second = input()\n",
        "second = int(second)\n",
        "countdown(second)"
      ]
    }
  ]
}